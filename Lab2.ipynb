{
  "nbformat": 4,
  "nbformat_minor": 0,
  "metadata": {
    "colab": {
      "provenance": [],
      "include_colab_link": true
    },
    "kernelspec": {
      "name": "python3",
      "display_name": "Python 3"
    },
    "language_info": {
      "name": "python"
    }
  },
  "cells": [
    {
      "cell_type": "markdown",
      "metadata": {
        "id": "view-in-github",
        "colab_type": "text"
      },
      "source": [
        "<a href=\"https://colab.research.google.com/github/Maheshdasi/AIDS/blob/main/Lab2.ipynb\" target=\"_parent\"><img src=\"https://colab.research.google.com/assets/colab-badge.svg\" alt=\"Open In Colab\"/></a>"
      ]
    },
    {
      "cell_type": "code",
      "execution_count": 3,
      "metadata": {
        "id": "WesjMm9nBocA"
      },
      "outputs": [],
      "source": [
        "import numpy as np\n",
        "from queue import Queue"
      ]
    },
    {
      "cell_type": "code",
      "source": [
        "graph = {\n",
        "    0: [1, 2, 3],\n",
        "    1: [0, 2],\n",
        "    3: [0, 1, 3, 5],\n",
        "    4: [4, 5,7],\n",
        "    5: [2, 4, 6, 7],\n",
        "    6: [5, 7],\n",
        "    7: [4, 5, 6],\n",
        "    8: []\n",
        "}\n",
        "print(\"The adjacemy list\")\n",
        "print(graph)"
      ],
      "metadata": {
        "colab": {
          "base_uri": "https://localhost:8080/"
        },
        "id": "3CTSOwgICH5q",
        "outputId": "043063c3-4071-430b-fdb9-5de3e6121f7b"
      },
      "execution_count": 1,
      "outputs": [
        {
          "output_type": "stream",
          "name": "stdout",
          "text": [
            "The adjacemy list\n",
            "{0: [1, 2, 3], 1: [0, 2], 3: [0, 1, 3, 5], 4: [4, 5, 7], 5: [2, 4, 6, 7], 6: [5, 7], 7: [4, 5, 6], 8: []}\n"
          ]
        }
      ]
    },
    {
      "cell_type": "code",
      "source": [
        "def bfs(graph, source):\n",
        "  Q = Queue()\n",
        "  visited_vertices = set()\n",
        "  Q.put(source)\n",
        "  visited_vertices.add(source)\n",
        "\n",
        "  while not Q.empty():\n",
        "    vertex = Q.get()\n",
        "    print(vertex, end=\"-->\")\n",
        "\n",
        "    for u in graph[vertex]:\n",
        "      if u not in visited_vertices:\n",
        "        Q.put(u)\n",
        "        visited_vertices.add(u)\n",
        "\n",
        "  print(\"BFS traversal of graph with sources 0\")\n",
        "  bfs(graph,0)"
      ],
      "metadata": {
        "id": "-gyz3u9xEPhY"
      },
      "execution_count": 2,
      "outputs": []
    }
  ]
}